{
 "cells": [
  {
   "cell_type": "code",
   "execution_count": 1,
   "metadata": {},
   "outputs": [
    {
     "name": "stdout",
     "output_type": "stream",
     "text": [
      "<class 'pandas.core.frame.DataFrame'>\n",
      "(117, 7)\n",
      "<bound method NDFrame.head of              日期      收盘      开盘       高       低    交易量     涨跌幅\n",
      "0    2017年3月20日  261.92  260.60  264.55  258.82  3.61M   0.16%\n",
      "1    2017年3月17日  261.50  264.00  265.33  261.20  6.50M  -0.21%\n",
      "2    2017年3月16日  262.05  262.40  265.75  259.06  7.13M   2.47%\n",
      "3    2017年3月15日  255.73  257.00  261.00  254.27  5.33M  -0.88%\n",
      "4    2017年3月14日  258.00  246.11  258.12  246.02  7.60M   4.81%\n",
      "..          ...     ...     ...     ...     ...    ...     ...\n",
      "112  2016年10月6日  201.00  202.46  204.21  200.21  4.70M  -3.58%\n",
      "113  2016年10月5日  208.46  212.24  213.15  208.12  1.88M  -1.40%\n",
      "114  2016年10月4日  211.41  213.10  213.32  208.82  3.54M  -1.07%\n",
      "115  2016年10月3日  213.70  212.30  215.67  208.25  6.00M   4.74%\n",
      "116  2016年9月30日  204.03  202.21  204.98  199.55  2.59M   1.66%\n",
      "\n",
      "[117 rows x 7 columns]>\n"
     ]
    }
   ],
   "source": [
    "import pandas as pd\n",
    "Tesla_info =pd.read_csv(\"TSLA历史数据.csv\") #读取交易数据，数据文件类型是.CSV\n",
    "print(type(Tesla_info))\n",
    "print(Tesla_info.shape) # 数据维度\n",
    "print(Tesla_info.head)# 数据参考\n"
   ]
  },
  {
   "cell_type": "code",
   "execution_count": 2,
   "metadata": {},
   "outputs": [
    {
     "name": "stdout",
     "output_type": "stream",
     "text": [
      "               收盘          开盘           高           低\n",
      "count  117.000000  117.000000  117.000000  117.000000\n",
      "mean   221.819829  221.529316  224.655043  218.668632\n",
      "std     29.714152   29.407807   29.762312   29.438241\n",
      "min    181.450000  182.510000  184.730000  178.190000\n",
      "25%    196.510000  195.990000  199.350000  193.260000\n",
      "50%    213.340000  212.300000  213.700000  208.250000\n",
      "75%    250.480000  249.240000  252.420000  247.700000\n",
      "max    280.980000  280.310000  287.390000  278.610000\n"
     ]
    }
   ],
   "source": [
    "print(Tesla_info.describe()) #数据简单统计 "
   ]
  },
  {
   "cell_type": "code",
   "execution_count": 3,
   "metadata": {},
   "outputs": [
    {
     "name": "stdout",
     "output_type": "stream",
     "text": [
      "0      261.92\n",
      "1      261.50\n",
      "2      262.05\n",
      "3      255.73\n",
      "4      258.00\n",
      "        ...  \n",
      "112    201.00\n",
      "113    208.46\n",
      "114    211.41\n",
      "115    213.70\n",
      "116    204.03\n",
      "Name: 收盘, Length: 117, dtype: float64\n",
      "       收盘      高    开盘\n",
      "0    261.92  264.55  260.60\n",
      "1    261.50  265.33  264.00\n",
      "2    262.05  265.75  262.40\n",
      "3    255.73  261.00  257.00\n",
      "4    258.00  258.12  246.11\n",
      "..      ...     ...     ...\n",
      "112  201.00  204.21  202.46\n",
      "113  208.46  213.15  212.24\n",
      "114  211.41  213.32  213.10\n",
      "115  213.70  215.67  212.30\n",
      "116  204.03  204.98  202.21\n",
      "\n",
      "[117 rows x 3 columns]\n"
     ]
    }
   ],
   "source": [
    "pd.set_option('display.width', 200) # 控制显示的列与行数\n",
    "pd.set_option('display.unicode.ambiguous_as_wide', True) # 将中文列数 居中显示 \n",
    "pd.set_option('display.unicode.east_asian_width', True)\n",
    "\n",
    "print(Tesla_info[\"收盘\"])  #提取某一列\n",
    "print(Tesla_info[[\"收盘\",\"高\",\"开盘\"]])# 按指定顺序提取其中的几列 "
   ]
  },
  {
   "cell_type": "code",
   "execution_count": 9,
   "metadata": {
    "scrolled": true
   },
   "outputs": [
    {
     "name": "stdout",
     "output_type": "stream",
     "text": [
      "             日期    收盘    开盘      高      低 交易量  涨跌幅\n",
      "5   2017年3月13日  246.17  244.82  246.85  242.78  3.02M   1.02%\n",
      "6   2017年3月10日  243.69  246.21  246.50  243.00  3.07M  -0.49%\n",
      "7    2017年3月9日  244.90  247.63  248.66  243.00  3.88M  -0.80%\n",
      "8    2017年3月8日  246.87  247.00  250.07  245.32  3.73M  -0.69%\n",
      "9    2017年3月7日  248.59  251.92  253.89  248.32  3.46M  -1.04%\n",
      "10   2017年3月6日  251.21  247.91  251.70  247.51  3.36M  -0.14%\n",
      "246.17\n",
      "             日期    收盘    开盘      高      低  交易量  涨跌幅\n",
      "0   2017年3月20日  261.92  260.60  264.55  258.82   3.61M   0.16%\n",
      "1   2017年3月17日  261.50  264.00  265.33  261.20   6.50M  -0.21%\n",
      "2   2017年3月16日  262.05  262.40  265.75  259.06   7.13M   2.47%\n",
      "3   2017年3月15日  255.73  257.00  261.00  254.27   5.33M  -0.88%\n",
      "4   2017年3月14日  258.00  246.11  258.12  246.02   7.60M   4.81%\n",
      "5   2017年3月13日  246.17  244.82  246.85  242.78   3.02M   1.02%\n",
      "6   2017年3月10日  243.69  246.21  246.50  243.00   3.07M  -0.49%\n",
      "7    2017年3月9日  244.90  247.63  248.66  243.00   3.88M  -0.80%\n",
      "8    2017年3月8日  246.87  247.00  250.07  245.32   3.73M  -0.69%\n",
      "9    2017年3月7日  248.59  251.92  253.89  248.32   3.46M  -1.04%\n",
      "10   2017年3月6日  251.21  247.91  251.70  247.51   3.36M  -0.14%\n",
      "11   2017年3月3日  251.57  250.74  251.90  249.00   2.93M   0.44%\n",
      "12   2017年3月2日  250.48  249.71  253.28  248.27   3.35M   0.18%\n",
      "13   2017年3月1日  250.02  254.18  254.85  249.11   4.81M   0.01%\n",
      "14  2017年2月28日  249.99  244.19  251.00  243.90   6.08M   1.53%\n",
      "15  2017年2月27日  246.23  248.17  248.36  242.01  11.46M  -4.19%\n",
      "16  2017年2月24日  257.00  252.66  258.25  250.20   8.17M   0.39%\n",
      "17  2017年2月23日  255.99  264.00  264.66  255.56  14.92M  -6.41%\n",
      "18  2017年2月22日  273.51  280.31  283.45  272.60   8.75M  -1.40%\n",
      "19  2017年2月21日  277.39  275.45  281.40  274.01   5.68M   1.90%\n",
      "20  2017年2月17日  272.23  265.80  272.89  264.15   6.26M   1.22%\n",
      "21  2017年2月16日  268.95  277.60  280.00  268.50   7.08M  -3.86%\n",
      "22  2017年2月15日  279.76  280.00  282.24  276.44   4.95M  -0.43%\n",
      "23  2017年2月14日  280.98  279.03  287.39  278.61   7.35M   0.14%\n",
      "24  2017年2月13日  280.60  270.74  280.79  270.51   7.03M   4.22%\n",
      "25  2017年2月10日  269.23  269.79  270.95  266.11   3.62M   0.01%\n",
      "26   2017年2月9日  269.20  266.25  271.18  266.15   7.82M   2.72%\n",
      "27   2017年2月8日  262.08  257.35  263.36  256.20   3.93M   1.79%\n",
      "28   2017年2月7日  257.48  258.19  260.00  256.42   4.24M  -0.11%\n",
      "29   2017年2月6日  257.77  251.00  257.82  250.63   3.56M   2.56%\n",
      "30   2017年2月3日  251.33  251.91  252.18  249.68   2.19M  -0.09%\n",
      "31   2017年2月2日  251.55  248.34  252.42  247.71   2.50M   0.93%\n",
      "32   2017年2月1日  249.24  253.05  253.20  249.05   3.96M  -1.07%\n",
      "33  2017年1月31日  251.93  249.24  255.89  247.70   4.12M   0.52%\n",
      "34  2017年1月30日  250.63  252.53  255.29  247.10   3.80M  -0.92%\n",
      "35  2017年1月27日  252.95  251.38  253.00  248.52   3.17M   0.17%\n",
      "36  2017年1月26日  252.51  254.29  255.74  250.75   3.15M  -0.77%\n",
      "37  2017年1月25日  254.47  257.31  258.46  251.80   5.15M  -0.05%\n",
      "38  2017年1月24日  254.61  250.00  254.80  249.65   4.97M   2.29%\n",
      "39  2017年1月23日  248.92  245.85  250.89  245.50   6.26M   1.71%\n",
      "40  2017年1月20日  244.73  245.46  246.00  243.01   4.20M   0.40%\n",
      "41  2017年1月19日  243.76  247.25  248.68  240.75   7.73M   2.27%\n"
     ]
    }
   ],
   "source": [
    "\n",
    "print(Tesla_info[5:11]) # 根据index 来提取数据  某几行数据 \n",
    "print(Tesla_info.loc[5,\"收盘\"])   # 某行的 某列数据  cell \n",
    "print(Tesla_info[Tesla_info[\"收盘\"]>240])   # 满足某列条件的 某几行所有数据 \n",
    "Tesla_info[(Tesla_info[\"收盘\"]>240)&(Tesla_info[\"收盘\"]<250)]  # 满足两个条件的 所有行的提取。 \n",
    "#print(Tesla_info[(Tesla_info[\"收盘\"]>240)&(Tesla_info[\"涨跌幅\"]>1%)])"
   ]
  },
  {
   "cell_type": "code",
   "execution_count": 8,
   "metadata": {},
   "outputs": [
    {
     "name": "stdout",
     "output_type": "stream",
     "text": [
      "日期      object\n",
      "收盘     float64\n",
      "开盘     float64\n",
      "高      float64\n",
      "低      float64\n",
      "交易量     object\n",
      "涨跌幅     object\n",
      "dtype: object\n"
     ]
    }
   ],
   "source": [
    "print(Tesla_info.dtypes) \n",
    "Tesla_info[\"日期\"] = pd.to_datetime( Tesla_info[\"日期\"],format='%Y年%m月%d日')"
   ]
  },
  {
   "cell_type": "code",
   "execution_count": 16,
   "metadata": {},
   "outputs": [
    {
     "name": "stdout",
     "output_type": "stream",
     "text": [
      "日期      datetime64[ns]\n",
      "收盘             float64\n",
      "开盘             float64\n",
      "高               float64\n",
      "低               float64\n",
      "交易量            object\n",
      "涨跌幅            object\n",
      "dtype: object\n"
     ]
    }
   ],
   "source": [
    "print(Tesla_info.dtypes) "
   ]
  },
  {
   "cell_type": "code",
   "execution_count": 10,
   "metadata": {},
   "outputs": [
    {
     "data": {
      "text/plain": [
       "[<matplotlib.lines.Line2D at 0x282af61fd88>]"
      ]
     },
     "execution_count": 10,
     "metadata": {},
     "output_type": "execute_result"
    },
    {
     "data": {
      "image/png": "[encoded data removed]",
      "text/plain": [
       "<Figure size 432x288 with 1 Axes>"
      ]
     },
     "metadata": {
      "needs_background": "light"
     },
     "output_type": "display_data"
    }
   ],
   "source": [
    "import  matplotlib.pyplot as plt\n",
    "#fig = plt.figure()  \n",
    "#ax = fig.add_subplot(1,1,1)\n",
    "from pandas.plotting import register_matplotlib_converters\n",
    "register_matplotlib_converters()\n",
    "\n",
    "x = Tesla_info[\"日期\"]\n",
    "y1 = Tesla_info[\"收盘\"]\n",
    "#y2 = Tesla_info[\"开盘\"]\n",
    "plt.plot(x, y1)\n",
    "#plt.plot(x, y2)\n"
   ]
  },
  {
   "cell_type": "code",
   "execution_count": 17,
   "metadata": {
    "scrolled": true
   },
   "outputs": [
    {
     "data": {
      "text/plain": [
       "[<matplotlib.lines.Line2D at 0x282b19f6388>]"
      ]
     },
     "execution_count": 17,
     "metadata": {},
     "output_type": "execute_result"
    },
    {
     "data": {
      "image/png": "[encoded data removed]",
      "text/plain": [
       "<Figure size 432x288 with 2 Axes>"
      ]
     },
     "metadata": {
      "needs_background": "light"
     },
     "output_type": "display_data"
    }
   ],
   "source": [
    "fig = plt.figure()  \n",
    "ax1 = fig.add_subplot(2,1,1)   # 创建一个图文件\n",
    "ax2 = fig.add_subplot(2,1,2)\n",
    "x = Tesla_info[\"日期\"]\n",
    "y1 = Tesla_info[\"收盘\"]\n",
    "x2=Tesla_info[Tesla_info[\"收盘\"]>240].loc[:,\"日期\"] \n",
    "y2 =Tesla_info[Tesla_info[\"收盘\"]>240].loc[:,\"收盘\"]   # 列数据， 和行数据必须维度一至。 \n",
    "plt.xticks(rotation=45)\n",
    "ax1.plot(x, y1)\n",
    "ax2.plot(x2, y2)\n",
    "#plt.plot(x, y2)"
   ]
  },
  {
   "cell_type": "code",
   "execution_count": 21,
   "metadata": {},
   "outputs": [
    {
     "name": "stdout",
     "output_type": "stream",
     "text": [
      "RangeIndex(start=0, stop=117, step=1)\n"
     ]
    }
   ],
   "source": [
    "\n",
    "print(Tesla_info.index)"
   ]
  },
  {
   "cell_type": "code",
   "execution_count": 18,
   "metadata": {},
   "outputs": [
    {
     "name": "stdout",
     "output_type": "stream",
     "text": [
      "<bound method NDFrame.head of             日期      收盘      开盘       高       低    交易量     涨跌幅\n",
      "0   2017-03-20  261.92  260.60  264.55  258.82  3.61M   0.16%\n",
      "1   2017-03-17  261.50  264.00  265.33  261.20  6.50M  -0.21%\n",
      "2   2017-03-16  262.05  262.40  265.75  259.06  7.13M   2.47%\n",
      "3   2017-03-15  255.73  257.00  261.00  254.27  5.33M  -0.88%\n",
      "4   2017-03-14  258.00  246.11  258.12  246.02  7.60M   4.81%\n",
      "..         ...     ...     ...     ...     ...    ...     ...\n",
      "112 2016-10-06  201.00  202.46  204.21  200.21  4.70M  -3.58%\n",
      "113 2016-10-05  208.46  212.24  213.15  208.12  1.88M  -1.40%\n",
      "114 2016-10-04  211.41  213.10  213.32  208.82  3.54M  -1.07%\n",
      "115 2016-10-03  213.70  212.30  215.67  208.25  6.00M   4.74%\n",
      "116 2016-09-30  204.03  202.21  204.98  199.55  2.59M   1.66%\n",
      "\n",
      "[117 rows x 7 columns]>\n",
      "日期     2017-03-17 00:00:00\n",
      "收盘                   261.5\n",
      "开盘                     264\n",
      "高                   265.33\n",
      "低                    261.2\n",
      "交易量                  6.50M\n",
      "涨跌幅                 -0.21%\n",
      "Name: 1, dtype: object\n"
     ]
    }
   ],
   "source": [
    "Tesla_info.set_index(\"日期\") #将某列设为索引 \n",
    "print(Tesla_info.head)\n",
    "print(Tesla_info.loc[1])\n",
    "#print(Tesla_info['2017-03-17']) \n",
    "\n",
    "#print(Tesla_info.loc[12:20,[\"收盘\",\"开盘\"]]) "
   ]
  },
  {
   "cell_type": "code",
   "execution_count": 43,
   "metadata": {},
   "outputs": [
    {
     "data": {
      "text/plain": [
       "RangeIndex(start=0, stop=117, step=1)"
      ]
     },
     "execution_count": 43,
     "metadata": {},
     "output_type": "execute_result"
    }
   ],
   "source": [
    "#Tesla_info.axes\n",
    "Tesla_info.index\n",
    "#print(Tesla_info.loc['2017-03-17']) "
   ]
  },
  {
   "cell_type": "code",
   "execution_count": 5,
   "metadata": {},
   "outputs": [
    {
     "data": {
      "text/plain": [
       "0     261.92\n",
       "1     261.50\n",
       "2     262.05\n",
       "3     255.73\n",
       "4     258.00\n",
       "5     246.17\n",
       "6     243.69\n",
       "7     244.90\n",
       "8     246.87\n",
       "9     248.59\n",
       "10    251.21\n",
       "11    251.57\n",
       "12    250.48\n",
       "13    250.02\n",
       "14    249.99\n",
       "15    246.23\n",
       "16    257.00\n",
       "17    255.99\n",
       "18    273.51\n",
       "19    277.39\n",
       "20    272.23\n",
       "21    268.95\n",
       "22    279.76\n",
       "23    280.98\n",
       "24    280.60\n",
       "25    269.23\n",
       "26    269.20\n",
       "27    262.08\n",
       "28    257.48\n",
       "29    257.77\n",
       "30    251.33\n",
       "31    251.55\n",
       "32    249.24\n",
       "33    251.93\n",
       "34    250.63\n",
       "35    252.95\n",
       "36    252.51\n",
       "37    254.47\n",
       "38    254.61\n",
       "39    248.92\n",
       "40    244.73\n",
       "41    243.76\n",
       "Name: 收盘, dtype: float64"
      ]
     },
     "execution_count": 5,
     "metadata": {},
     "output_type": "execute_result"
    }
   ],
   "source": [
    "#print(Tesla_info.loc[12:20,[\"收盘\",\"开盘\"]])\n",
    "#Tesla_info[(Tesla_info[\"收盘\"]>240)&(Tesla_info[\"收盘\"]<250)]\n",
    "Tesla_info[Tesla_info[\"收盘\"]>240].loc[:,\"收盘\"]"
   ]
  }
 ],
 "metadata": {
  "kernelspec": {
   "display_name": "Python 3",
   "language": "python",
   "name": "python3"
  },
  "language_info": {
   "codemirror_mode": {
    "name": "ipython",
    "version": 3
   },
   "file_extension": ".py",
   "mimetype": "text/x-python",
   "name": "python",
   "nbconvert_exporter": "python",
   "pygments_lexer": "ipython3",
   "version": "3.7.4"
  }
 },
 "nbformat": 4,
 "nbformat_minor": 2
}
